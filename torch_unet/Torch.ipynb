{
 "cells": [
  {
   "cell_type": "code",
   "execution_count": 1,
   "metadata": {},
   "outputs": [],
   "source": [
    "%matplotlib inline\n",
    "%load_ext autoreload\n",
    "%autoreload 2\n",
    "import matplotlib.pyplot as plt\n",
    "from torch_unet.tools.dataset import TrainingSet, TestSet\n",
    "from torch_unet.unet import UNet\n",
    "import numpy as np\n",
    "\n",
    "from torch.utils.tensorboard import SummaryWriter\n",
    "from torch.utils.data import DataLoader, random_split\n",
    "import torch\n",
    "import logging\n",
    "import torch\n",
    "import torch.nn as nn\n",
    "from torch import optim\n",
    "from tqdm import tqdm\n",
    "from torch_unet.tools.evaluation import eval_net\n",
    "from torchsummary import summary\n",
    "from torch_unet.tools.losses import DiceCoeff\n",
    "\n",
    "logging.basicConfig(level=logging.INFO, format='%(levelname)s: %(message)s')\n",
    "\n",
    "logger = logging.getLogger()\n",
    "logger.setLevel(logging.DEBUG)"
   ]
  },
  {
   "cell_type": "code",
   "execution_count": 2,
   "metadata": {},
   "outputs": [],
   "source": [
    "DATADIR = \"../Datasets/training/\"\n",
    "IMAGE_DIR = DATADIR + \"images/\"\n",
    "MASK_DIR = DATADIR + \"groundtruth/\"\n",
    "MASK_THRESHOLD = 0.25\n",
    "device = torch.device('cuda' if torch.cuda.is_available() else 'cpu')"
   ]
  },
  {
   "cell_type": "code",
   "execution_count": null,
   "metadata": {},
   "outputs": [],
   "source": [
    "net_1 = UNet(n_channels=3, n_classes=1, depth=3, init_filters=64, padding=True, batch_norm=True, dropout=0.2)\n",
    "net_1.eval()"
   ]
  },
  {
   "cell_type": "code",
   "execution_count": 4,
   "metadata": {},
   "outputs": [],
   "source": [
    "net_2 = UNet(n_channels=3, n_classes=1, depth=3, init_filters=64, padding=True, batch_norm=True, dropout=0.2)\n",
    "net_2.eval();"
   ]
  },
  {
   "cell_type": "code",
   "execution_count": 5,
   "metadata": {},
   "outputs": [
    {
     "name": "stderr",
     "output_type": "stream",
     "text": [
      "INFO: Creating dataset with 50 examples\n"
     ]
    }
   ],
   "source": [
    "testset = TestSet(\"../Datasets/test_set_images/\")"
   ]
  },
  {
   "cell_type": "code",
   "execution_count": 36,
   "metadata": {},
   "outputs": [],
   "source": [
    "img = testset[12]['image'][None, :, :, :]"
   ]
  },
  {
   "cell_type": "code",
   "execution_count": 37,
   "metadata": {},
   "outputs": [
    {
     "data": {
      "text/plain": [
       "torch.Size([1, 3, 608, 608])"
      ]
     },
     "execution_count": 37,
     "metadata": {},
     "output_type": "execute_result"
    }
   ],
   "source": [
    "img.shape"
   ]
  },
  {
   "cell_type": "code",
   "execution_count": 38,
   "metadata": {},
   "outputs": [
    {
     "data": {
      "text/plain": [
       "<All keys matched successfully>"
      ]
     },
     "execution_count": 38,
     "metadata": {},
     "output_type": "execute_result"
    }
   ],
   "source": [
    "net_1.load_state_dict(torch.load(\"../models/depth4_BS128_lr0.001_PS80_ST20_WF64_padding_batchnorm_rot_dropout0.2_balance_augmentation/checkpoints/CP_epoch30.pth\", map_location=device))"
   ]
  },
  {
   "cell_type": "code",
   "execution_count": 39,
   "metadata": {},
   "outputs": [
    {
     "data": {
      "text/plain": [
       "<All keys matched successfully>"
      ]
     },
     "execution_count": 39,
     "metadata": {},
     "output_type": "execute_result"
    }
   ],
   "source": [
    "net_2.load_state_dict(torch.load(\"../models/depth4_BS128_lr0.001_PS80_ST20_WF64_padding_batchnorm_rot_dropout0.2_dice_augmentation/checkpoints/CP_epoch33.pth\", map_location=device))"
   ]
  },
  {
   "cell_type": "code",
   "execution_count": 40,
   "metadata": {},
   "outputs": [],
   "source": [
    "pred_1 = net_1(img)\n",
    "pred_2 = net_2(img)"
   ]
  },
  {
   "cell_type": "code",
   "execution_count": 41,
   "metadata": {},
   "outputs": [
    {
     "data": {
      "text/plain": [
       "12980"
      ]
     },
     "execution_count": 41,
     "metadata": {},
     "output_type": "execute_result"
    }
   ],
   "source": [
    "import gc\n",
    "gc.collect()"
   ]
  },
  {
   "cell_type": "code",
   "execution_count": 42,
   "metadata": {},
   "outputs": [],
   "source": [
    "pred_1 = torch.sigmoid(pred_1)[0][0].detach().numpy()\n",
    "pred_2 = torch.sigmoid(pred_2)[0][0].detach().numpy()"
   ]
  },
  {
   "cell_type": "code",
   "execution_count": 43,
   "metadata": {},
   "outputs": [],
   "source": [
    "from torch_unet.utils import show_side_by_side"
   ]
  },
  {
   "cell_type": "code",
   "execution_count": 44,
   "metadata": {},
   "outputs": [
    {
     "data": {
      "text/plain": [
       "((608, 608), (608, 608))"
      ]
     },
     "execution_count": 44,
     "metadata": {},
     "output_type": "execute_result"
    }
   ],
   "source": [
    "pred_1.shape, pred_2.shape"
   ]
  },
  {
   "cell_type": "code",
   "execution_count": 45,
   "metadata": {},
   "outputs": [],
   "source": [
    "new = np.concatenate([pred_1, pred_2], axis=1)"
   ]
  },
  {
   "cell_type": "code",
   "execution_count": 46,
   "metadata": {},
   "outputs": [
    {
     "data": {
      "text/plain": [
       "(-0.5, 607.5, 607.5, -0.5)"
      ]
     },
     "execution_count": 46,
     "metadata": {},
     "output_type": "execute_result"
    },
    {
     "data": {
      "image/png": "[encoded data removed]",
      "text/plain": [
       "<Figure size 720x720 with 2 Axes>"
      ]
     },
     "metadata": {
      "needs_background": "light"
     },
     "output_type": "display_data"
    }
   ],
   "source": [
    "fig, ax = plt.subplots(ncols=2, figsize=(10,10))\n",
    "ax[0].imshow(pred_1)\n",
    "ax[1].imshow(pred_2)\n",
    "ax[0].axis('off');\n",
    "ax[1].axis('off')\n",
    "fig."
   ]
  },
  {
   "cell_type": "code",
   "execution_count": 47,
   "metadata": {},
   "outputs": [],
   "source": [
    "fig.savefig(\"predictions.png\")"
   ]
  },
  {
   "cell_type": "code",
   "execution_count": 21,
   "metadata": {},
   "outputs": [
    {
     "data": {
      "text/plain": [
       "<matplotlib.image.AxesImage at 0x7f326551b390>"
      ]
     },
     "execution_count": 21,
     "metadata": {},
     "output_type": "execute_result"
    },
    {
     "data": {
      "image/png": "[encoded data removed]",
      "text/plain": [
       "<Figure size 432x288 with 1 Axes>"
      ]
     },
     "metadata": {
      "needs_background": "light"
     },
     "output_type": "display_data"
    }
   ],
   "source": [
    "plt.imshow(pred_1)"
   ]
  },
  {
   "cell_type": "code",
   "execution_count": 5,
   "metadata": {},
   "outputs": [],
   "source": [
    "net.eval();"
   ]
  },
  {
   "cell_type": "code",
   "execution_count": 48,
   "metadata": {},
   "outputs": [],
   "source": [
    "import pandas as pd\n",
    "import matplotlib.image as mpimg"
   ]
  },
  {
   "cell_type": "code",
   "execution_count": 95,
   "metadata": {},
   "outputs": [],
   "source": [
    "import re\n",
    "def patch_to_label(patch):\n",
    "    df = np.mean(patch)\n",
    "    if df > 0.5:\n",
    "        return 1\n",
    "    else:\n",
    "        return 0\n",
    "\n",
    "\n",
    "def mask_to_submission_strings(image_filename):\n",
    "    \"\"\"Reads a single image and outputs the strings that should go into the submission file\"\"\"\n",
    "    img_number = int(re.search(r\"\\d+\", image_filename).group(0))\n",
    "    im = mpimg.imread(image_filename)\n",
    "    patch_size = 16\n",
    "    #im = ((im > 0.49) * 1)\n",
    "    for j in range(0, im.shape[1], patch_size):\n",
    "        for i in range(0, im.shape[0], patch_size):\n",
    "            patch = im[i: i + patch_size, j: j + patch_size]\n",
    "            label = patch_to_label(patch)\n",
    "            yield (\"{:03d}_{}_{},{}\".format(img_number, j, i, label))\n",
    "\n",
    "\n",
    "def masks_to_submission(submission_filename, *image_filenames):\n",
    "    \"\"\"Converts images into a submission file\"\"\"\n",
    "    with open(submission_filename, \"w\") as f:\n",
    "        f.write(\"id,prediction\\n\")\n",
    "        for fn in image_filenames[0:]:\n",
    "            f.writelines(\"{}\\n\".format(s) for s in mask_to_submission_strings(fn))"
   ]
  },
  {
   "cell_type": "code",
   "execution_count": 601,
   "metadata": {},
   "outputs": [],
   "source": [
    "submission_filename = \"../Datasets/submission.csv\"\n",
    "image_filenames = []\n",
    "for i in range(1, 51):\n",
    "    image_filename = \"../predictions/test_\" + \"%.d\" % i + \".png\"\n",
    "    image_filenames.append(image_filename)\n",
    "\n",
    "masks_to_submission(submission_filename, *image_filenames)"
   ]
  },
  {
   "cell_type": "code",
   "execution_count": 602,
   "metadata": {},
   "outputs": [],
   "source": [
    "#submission = pd.read_csv(\"../../../../../road_segmentation/submissions/submission_17-12-2019.csv\")\n",
    "#submission = pd.read_csv(\"../Datasets/submissions/submission_best.csv\")\n",
    "submission = pd.read_csv(\"../Datasets/submission.csv\")\n",
    "solution = pd.read_csv(\"../Datasets/solution.csv\").rename(columns={'prediction': 'actual'}).drop(columns=['Usage'])\n",
    "merged = submission.merge(solution, on='id')"
   ]
  },
  {
   "cell_type": "code",
   "execution_count": 603,
   "metadata": {},
   "outputs": [
    {
     "data": {
      "text/plain": [
       "(72200, 72200)"
      ]
     },
     "execution_count": 603,
     "metadata": {},
     "output_type": "execute_result"
    }
   ],
   "source": [
    "solution.shape[0], merged.shape[0]"
   ]
  },
  {
   "cell_type": "code",
   "execution_count": 604,
   "metadata": {},
   "outputs": [],
   "source": [
    "tp = merged[(merged['actual'] == 1) & (merged['prediction'] == 1)]['id'].count()\n",
    "fn = merged[(merged['actual'] == 1) & (merged['prediction'] == 0)]['id'].count()\n",
    "fp = merged[(merged['actual'] == 0) & (merged['prediction'] == 1)]['id'].count()\n",
    "\n",
    "precision = tp / (tp + fp)\n",
    "recall = tp / (tp + fn)\n",
    "f1_score = 2 * (precision * recall) / (precision + recall)"
   ]
  },
  {
   "cell_type": "code",
   "execution_count": 605,
   "metadata": {},
   "outputs": [
    {
     "data": {
      "text/plain": [
       "(0.9053080119943184, 0.9265600603025897, 0.8850089997428645)"
      ]
     },
     "execution_count": 605,
     "metadata": {},
     "output_type": "execute_result"
    }
   ],
   "source": [
    "f1_score, precision, recall"
   ]
  },
  {
   "cell_type": "markdown",
   "metadata": {},
   "source": [
    "## x = np.linspace(0.1, 1, 100)\n",
    "y = np.linspace(0.1, 1, 100)\n",
    "def f(x, y):\n",
    "    return 2*x*y/(x+y)"
   ]
  },
  {
   "cell_type": "code",
   "execution_count": 138,
   "metadata": {},
   "outputs": [],
   "source": [
    "x = np.tile(x[None, :], (len(x), 1))\n",
    "y = np.tile(y[:, None], (1, y.shape[0]))"
   ]
  },
  {
   "cell_type": "code",
   "execution_count": 144,
   "metadata": {},
   "outputs": [
    {
     "data": {
      "text/plain": [
       "(array([0.1       , 0.10909091, 0.11818182, 0.12727273, 0.13636364,\n",
       "        0.14545455, 0.15454545, 0.16363636, 0.17272727, 0.18181818,\n",
       "        0.19090909, 0.2       , 0.20909091, 0.21818182, 0.22727273,\n",
       "        0.23636364, 0.24545455, 0.25454545, 0.26363636, 0.27272727,\n",
       "        0.28181818, 0.29090909, 0.3       , 0.30909091, 0.31818182,\n",
       "        0.32727273, 0.33636364, 0.34545455, 0.35454545, 0.36363636,\n",
       "        0.37272727, 0.38181818, 0.39090909, 0.4       , 0.40909091,\n",
       "        0.41818182, 0.42727273, 0.43636364, 0.44545455, 0.45454545,\n",
       "        0.46363636, 0.47272727, 0.48181818, 0.49090909, 0.5       ,\n",
       "        0.50909091, 0.51818182, 0.52727273, 0.53636364, 0.54545455,\n",
       "        0.55454545, 0.56363636, 0.57272727, 0.58181818, 0.59090909,\n",
       "        0.6       , 0.60909091, 0.61818182, 0.62727273, 0.63636364,\n",
       "        0.64545455, 0.65454545, 0.66363636, 0.67272727, 0.68181818,\n",
       "        0.69090909, 0.7       , 0.70909091, 0.71818182, 0.72727273,\n",
       "        0.73636364, 0.74545455, 0.75454545, 0.76363636, 0.77272727,\n",
       "        0.78181818, 0.79090909, 0.8       , 0.80909091, 0.81818182,\n",
       "        0.82727273, 0.83636364, 0.84545455, 0.85454545, 0.86363636,\n",
       "        0.87272727, 0.88181818, 0.89090909, 0.9       , 0.90909091,\n",
       "        0.91818182, 0.92727273, 0.93636364, 0.94545455, 0.95454545,\n",
       "        0.96363636, 0.97272727, 0.98181818, 0.99090909, 1.        ]),\n",
       " array([1., 1., 1., 1., 1., 1., 1., 1., 1., 1., 1., 1., 1., 1., 1., 1., 1.,\n",
       "        1., 1., 1., 1., 1., 1., 1., 1., 1., 1., 1., 1., 1., 1., 1., 1., 1.,\n",
       "        1., 1., 1., 1., 1., 1., 1., 1., 1., 1., 1., 1., 1., 1., 1., 1., 1.,\n",
       "        1., 1., 1., 1., 1., 1., 1., 1., 1., 1., 1., 1., 1., 1., 1., 1., 1.,\n",
       "        1., 1., 1., 1., 1., 1., 1., 1., 1., 1., 1., 1., 1., 1., 1., 1., 1.,\n",
       "        1., 1., 1., 1., 1., 1., 1., 1., 1., 1., 1., 1., 1., 1., 1.]))"
      ]
     },
     "execution_count": 144,
     "metadata": {},
     "output_type": "execute_result"
    }
   ],
   "source": [
    "x[-1], y[-1]"
   ]
  },
  {
   "cell_type": "code",
   "execution_count": 143,
   "metadata": {},
   "outputs": [
    {
     "data": {
      "text/plain": [
       "array([0.18181818, 0.19672131, 0.21138211, 0.22580645, 0.24      ,\n",
       "       0.25396825, 0.26771654, 0.28125   , 0.29457364, 0.30769231,\n",
       "       0.32061069, 0.33333333, 0.34586466, 0.35820896, 0.37037037,\n",
       "       0.38235294, 0.39416058, 0.4057971 , 0.41726619, 0.42857143,\n",
       "       0.43971631, 0.45070423, 0.46153846, 0.47222222, 0.48275862,\n",
       "       0.49315068, 0.50340136, 0.51351351, 0.52348993, 0.53333333,\n",
       "       0.54304636, 0.55263158, 0.5620915 , 0.57142857, 0.58064516,\n",
       "       0.58974359, 0.59872611, 0.60759494, 0.6163522 , 0.625     ,\n",
       "       0.63354037, 0.64197531, 0.65030675, 0.65853659, 0.66666667,\n",
       "       0.6746988 , 0.68263473, 0.69047619, 0.69822485, 0.70588235,\n",
       "       0.71345029, 0.72093023, 0.7283237 , 0.73563218, 0.74285714,\n",
       "       0.75      , 0.75706215, 0.76404494, 0.77094972, 0.77777778,\n",
       "       0.78453039, 0.79120879, 0.79781421, 0.80434783, 0.81081081,\n",
       "       0.8172043 , 0.82352941, 0.82978723, 0.83597884, 0.84210526,\n",
       "       0.84816754, 0.85416667, 0.86010363, 0.86597938, 0.87179487,\n",
       "       0.87755102, 0.88324873, 0.88888889, 0.89447236, 0.9       ,\n",
       "       0.90547264, 0.91089109, 0.91625616, 0.92156863, 0.92682927,\n",
       "       0.93203883, 0.93719807, 0.94230769, 0.94736842, 0.95238095,\n",
       "       0.95734597, 0.96226415, 0.96713615, 0.97196262, 0.97674419,\n",
       "       0.98148148, 0.98617512, 0.99082569, 0.99543379, 1.        ])"
      ]
     },
     "execution_count": 143,
     "metadata": {},
     "output_type": "execute_result"
    }
   ],
   "source": [
    "f(x,y)[-1]"
   ]
  },
  {
   "cell_type": "code",
   "execution_count": null,
   "metadata": {},
   "outputs": [],
   "source": [
    "dataset = TrainingSet(IMAGE_DIR, MASK_DIR, MASK_THRESHOLD)"
   ]
  },
  {
   "cell_type": "code",
   "execution_count": 7,
   "metadata": {},
   "outputs": [],
   "source": [
    "img, mask = dataset[0]['image'], dataset[0]['mask']\n",
    "img = img[None, :, :, :]\n",
    "mask = mask[None, :, :]"
   ]
  },
  {
   "cell_type": "code",
   "execution_count": 8,
   "metadata": {},
   "outputs": [],
   "source": [
    "pred = net(img)"
   ]
  },
  {
   "cell_type": "code",
   "execution_count": 9,
   "metadata": {},
   "outputs": [
    {
     "data": {
      "text/plain": [
       "torch.Size([1, 1, 400, 400])"
      ]
     },
     "execution_count": 9,
     "metadata": {},
     "output_type": "execute_result"
    }
   ],
   "source": [
    "pred.shape"
   ]
  },
  {
   "cell_type": "code",
   "execution_count": 10,
   "metadata": {},
   "outputs": [
    {
     "ename": "NameError",
     "evalue": "name 'f1_score' is not defined",
     "output_type": "error",
     "traceback": [
      "\u001b[0;31m---------------------------------------------------------------------------\u001b[0m",
      "\u001b[0;31mNameError\u001b[0m                                 Traceback (most recent call last)",
      "\u001b[0;32m<ipython-input-10-5c6a9aec42aa>\u001b[0m in \u001b[0;36m<module>\u001b[0;34m\u001b[0m\n\u001b[0;32m----> 1\u001b[0;31m \u001b[0mf1_score\u001b[0m\u001b[0;34m,\u001b[0m \u001b[0mprecision\u001b[0m\u001b[0;34m,\u001b[0m \u001b[0mrecall\u001b[0m\u001b[0;34m\u001b[0m\u001b[0;34m\u001b[0m\u001b[0m\n\u001b[0m",
      "\u001b[0;31mNameError\u001b[0m: name 'f1_score' is not defined"
     ]
    }
   ],
   "source": [
    "f1_score, precision, recall"
   ]
  },
  {
   "cell_type": "code",
   "execution_count": 11,
   "metadata": {},
   "outputs": [],
   "source": [
    "from torch_unet.tools.losses import dice_loss_withlogits"
   ]
  },
  {
   "cell_type": "code",
   "execution_count": 12,
   "metadata": {},
   "outputs": [],
   "source": [
    "loss = dice_loss_withlogits(mask, pred)"
   ]
  },
  {
   "cell_type": "code",
   "execution_count": 13,
   "metadata": {},
   "outputs": [],
   "source": [
    "loss.backward()"
   ]
  },
  {
   "cell_type": "code",
   "execution_count": 17,
   "metadata": {},
   "outputs": [
    {
     "data": {
      "text/plain": [
       "torch.int64"
      ]
     },
     "execution_count": 17,
     "metadata": {},
     "output_type": "execute_result"
    }
   ],
   "source": [
    "mask.dtype"
   ]
  },
  {
   "cell_type": "code",
   "execution_count": null,
   "metadata": {},
   "outputs": [],
   "source": []
  }
 ],
 "metadata": {
  "kernelspec": {
   "display_name": "Python (ML)",
   "language": "python",
   "name": "ml"
  },
  "language_info": {
   "codemirror_mode": {
    "name": "ipython",
    "version": 3
   },
   "file_extension": ".py",
   "mimetype": "text/x-python",
   "name": "python",
   "nbconvert_exporter": "python",
   "pygments_lexer": "ipython3",
   "version": "3.7.4"
  }
 },
 "nbformat": 4,
 "nbformat_minor": 2
}
